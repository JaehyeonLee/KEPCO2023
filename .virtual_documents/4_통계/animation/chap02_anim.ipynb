import numpy as np
import pandas as pd
import matplotlib.pyplot as plt
from plot_util import plot_var_interact, plot_std_interact

pd.set_option('precision', 3)
get_ipython().run_line_magic("precision", " 3")
get_ipython().run_line_magic("matplotlib", " inline")


df = pd.read_csv('../data/ch2_scores_em.csv', index_col='student number')
scores = np.array(df['english'])[:10]


plot_var_interact(scores[:4])


plot_std_interact(scores)



