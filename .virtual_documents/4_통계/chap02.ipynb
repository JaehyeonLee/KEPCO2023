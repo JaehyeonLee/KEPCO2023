import numpy as np
import pandas as pd


a = 1.2344586
a


# 소숫점 이하 3자리로 고정
get_ipython().run_line_magic("precision", " 3")
# pd.options.display.precision = 3


a


df = pd.read_csv('data/ch2_scores_em.csv', index_col ='student number')


df.info()


np.__version__


pd.__version__


df['english']


# 중앙값 구하기 (평균) 
np.median(df['english'])









