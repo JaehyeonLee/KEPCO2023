import pandas as pd


df=pd.read_csv(C:/Users/고지연/desktop/python_stat_sample-master/ch1_sport_test.csv',
              index_col='학생번호')
df



