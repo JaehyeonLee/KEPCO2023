from geopy.geocoders import Nominatim


geolocator = Nominatim(user_agent='web')
location = geolocator.geocode("광주광역시 광산구 소촌로152번길 37")
print(location.latitude,location.longitude,location.address)



location.raw


import requests
query = '광주광역시 광산구 소촌로 152번길 37'
REST_API_KEY ="fae1caaa55cd04545761f195a556fda2"
url=f'https://dapi.kakao.com/v2/local/search/address.json?query={query}'
header = {"Authorization": f'KakaoAK {REST_API_KEY}'}
r = requests.get(url,headers=header)
jsondata =  r.json()
jsondata['documents'][0]['address']['y'],jsondata['documents'][0]['address']['x']


query = '카카오프렌즈'
x = 35.158271150000004 
y = 37.514322572335935
radius = 20000
REST_API_KEY ="fae1caaa55cd04545761f195a556fda2"
url=f'https://dapi.kakao.com/v2/local/search/keyword.json?y={y}&x={x}&radius={radius}&query={query}'
header = {"Authorization": f'KakaoAK {REST_API_KEY}'}
r = requests.get(url,headers=header)
jsondata =  r.json()
jsondata


query = '약국'
x = 126.795781369881
y = 35.158271150000004
radius = 2000
REST_API_KEY ="fae1caaa55cd04545761f195a556fda2"
url=f'https://dapi.kakao.com/v2/local/search/keyword.json?y={y}&x={x}&radius={radius}&query={query}'
header = {"Authorization": f'KakaoAK {REST_API_KEY}'}
r = requests.get(url,headers=header)
jsondata =  r.json()
jsondata


# jeju.csv 가져오기
import pandas as pd
jeju = pd.read_csv('jeju.csv',encoding='cp949')
jeju.info()


jeju['지역'].value_counts()


# 1.주소 정보를 이용한 위도,경도 값 저장
# 주소 저장 함수 작성 . 함수이름은 geo_coder(query) return 값 : (위도,경도) 못찾았으면 결과없음
# 함수에 apply() 사용
def geo_coder(query):
    REST_API_KEY ="fae1caaa55cd04545761f195a556fda2"
    code = 'P03'
    query = query.split('(')[0]
    url=f'https://dapi.kakao.com/v2/local/search/address.json?query={query}&category_group_code={code}'
    header = {"Authorization": f'KakaoAK {REST_API_KEY}'}
    r = requests.get(url,headers=header)
    jsondata =  r.json()
    try:
        return jsondata['documents'][0]['y'],jsondata['documents'][0]['x']
    except:
        return "결과없음"
jeju['위치'] = jeju['주소'].apply(geo_coder)


jeju.head(2)


# 함수 만들기 '위치'컬럼의 값을 Marker위치값으로, tooltips으로 읍면동을 사용하여 지도에 표시(Cluster 이용) 
import folium
from folium.plugins import MarkerCluster


def display(df,map):
    if (df[0]) != '결과없음':
        folium.Marker(df[0],tooltip=df[1]).add_to(map)

map = folium.Map((33.3616666, 126.5291666),zoom_start = 9)
map_c = MarkerCluster().add_to(map)
jeju[['위치','읍면동']].apply(display,map=map,axis=1)
map


map = folium.Map((33.3616666, 126.5291666),zoom_start = 9)
map_c = MarkerCluster().add_to(map)
                 
for index,row in jeju.iterrows():
    # print(index,row)
    # print('--------')
    if row['위치'] != '결과없음':
        folium.Marker(row['위치'],tooltip=row['읍면동']).add_to(map_c)
map


# '일반현황' 컬럼의 인구수만 분리해서, '인구수'라는 int형 컬럼을 생성


# for item in jeju['일반현황']:
#     print(item.split()[1].split('(')[0])
jeju['인구수'] = jeju['일반현황'].str.split('/').str[0].str.split('(').str[0].str.split().str[-1].str.replace('명','').astype(int)


jeju['인구수']


import re
jeju['일반현황'].apply(lambda x:int(re.findall(,)[-1]))


# 지역을 제주시는 "Jeju", 서귀포시는 "Seogwuipo"로 변경


import json
jeju['지역'].value_counts()


jeju['키'] = jeju['지역'].replace(['제주시','서귀포시'],['Jeju','Seogwipo'])


jeju.sample(3)


# 시별로 인구수를 집계하여 Choropleth로 지도에 표시









