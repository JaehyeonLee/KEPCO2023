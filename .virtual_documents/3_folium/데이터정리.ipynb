import pandas as pd
import numpy as np
# 소숫점 3자리 제한
pd.options.display.precision = 3












