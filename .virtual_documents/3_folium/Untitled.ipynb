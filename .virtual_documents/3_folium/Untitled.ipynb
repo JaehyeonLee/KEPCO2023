import pandas as pd
import numpy as np
# 소숫점 3자리 제한
pd.set_option('precision',3)
