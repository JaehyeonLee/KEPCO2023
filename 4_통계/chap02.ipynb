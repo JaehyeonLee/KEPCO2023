{
 "cells": [
  {
   "cell_type": "code",
   "execution_count": 1,
   "id": "d7e7216d-f04a-4c67-9b37-916aee3aaa91",
   "metadata": {},
   "outputs": [],
   "source": [
    "import numpy as np\n",
    "import pandas as pd"
   ]
  },
  {
   "cell_type": "code",
   "execution_count": 2,
   "id": "8672c2a1-20d6-4023-a1c0-eeb816e1d424",
   "metadata": {},
   "outputs": [
    {
     "data": {
      "text/plain": [
       "1.2344586"
      ]
     },
     "execution_count": 2,
     "metadata": {},
     "output_type": "execute_result"
    }
   ],
   "source": [
    "a = 1.2344586\n",
    "a"
   ]
  },
  {
   "cell_type": "code",
   "execution_count": 3,
   "id": "1f76909a-5633-4b71-9789-c4f77e52ce39",
   "metadata": {},
   "outputs": [
    {
     "data": {
      "text/plain": [
       "'%.3f'"
      ]
     },
     "execution_count": 3,
     "metadata": {},
     "output_type": "execute_result"
    }
   ],
   "source": [
    "# 소숫점 이하 3자리로 고정\n",
    "%precision 3\n",
    "# pd.options.display.precision = 3"
   ]
  },
  {
   "cell_type": "code",
   "execution_count": 4,
   "id": "7af3a4b8-081c-4f8a-88cf-d3681cf8a24c",
   "metadata": {},
   "outputs": [
    {
     "data": {
      "text/plain": [
       "1.234"
      ]
     },
     "execution_count": 4,
     "metadata": {},
     "output_type": "execute_result"
    }
   ],
   "source": [
    "a"
   ]
  },
  {
   "cell_type": "code",
   "execution_count": 8,
   "id": "e75ff508-e0a6-46fc-ae18-e38ba03aee8f",
   "metadata": {},
   "outputs": [],
   "source": [
    "df = pd.read_csv('data/ch2_scores_em.csv', index_col ='student number')"
   ]
  },
  {
   "cell_type": "code",
   "execution_count": 9,
   "id": "67d366ed-d865-4e82-a89b-964999afe32f",
   "metadata": {
    "collapsed": true,
    "jupyter": {
     "outputs_hidden": true
    },
    "tags": []
   },
   "outputs": [
    {
     "name": "stdout",
     "output_type": "stream",
     "text": [
      "<class 'pandas.core.frame.DataFrame'>\n",
      "Index: 50 entries, 1 to 50\n",
      "Data columns (total 2 columns):\n",
      " #   Column       Non-Null Count  Dtype\n",
      "---  ------       --------------  -----\n",
      " 0   english      50 non-null     int64\n",
      " 1   mathematics  50 non-null     int64\n",
      "dtypes: int64(2)\n",
      "memory usage: 1.2 KB\n"
     ]
    }
   ],
   "source": [
    "df.info()"
   ]
  },
  {
   "cell_type": "code",
   "execution_count": 10,
   "id": "2ae7ec7b-eea6-4365-8ca9-162600bd61bd",
   "metadata": {},
   "outputs": [
    {
     "data": {
      "text/plain": [
       "'1.24.2'"
      ]
     },
     "execution_count": 10,
     "metadata": {},
     "output_type": "execute_result"
    }
   ],
   "source": [
    "np.__version__"
   ]
  },
  {
   "cell_type": "code",
   "execution_count": 11,
   "id": "0fb0e008-a222-46bd-ae10-942296088980",
   "metadata": {},
   "outputs": [
    {
     "data": {
      "text/plain": [
       "'2.0.0'"
      ]
     },
     "execution_count": 11,
     "metadata": {},
     "output_type": "execute_result"
    }
   ],
   "source": [
    "pd.__version__"
   ]
  },
  {
   "cell_type": "code",
   "execution_count": 14,
   "id": "1810af36-bb92-4f30-9dc7-14e65d74277e",
   "metadata": {
    "collapsed": true,
    "jupyter": {
     "outputs_hidden": true
    },
    "tags": []
   },
   "outputs": [
    {
     "data": {
      "text/plain": [
       "student number\n",
       "1     42\n",
       "2     69\n",
       "3     56\n",
       "4     41\n",
       "5     57\n",
       "6     48\n",
       "7     65\n",
       "8     49\n",
       "9     65\n",
       "10    58\n",
       "11    70\n",
       "12    47\n",
       "13    51\n",
       "14    64\n",
       "15    62\n",
       "16    70\n",
       "17    71\n",
       "18    68\n",
       "19    73\n",
       "20    37\n",
       "21    65\n",
       "22    65\n",
       "23    61\n",
       "24    52\n",
       "25    57\n",
       "26    57\n",
       "27    75\n",
       "28    61\n",
       "29    47\n",
       "30    54\n",
       "31    66\n",
       "32    54\n",
       "33    54\n",
       "34    42\n",
       "35    37\n",
       "36    79\n",
       "37    56\n",
       "38    62\n",
       "39    62\n",
       "40    55\n",
       "41    63\n",
       "42    57\n",
       "43    57\n",
       "44    67\n",
       "45    55\n",
       "46    45\n",
       "47    66\n",
       "48    55\n",
       "49    64\n",
       "50    66\n",
       "Name: english, dtype: int64"
      ]
     },
     "execution_count": 14,
     "metadata": {},
     "output_type": "execute_result"
    }
   ],
   "source": [
    "df['english']"
   ]
  },
  {
   "cell_type": "code",
   "execution_count": 15,
   "id": "f4e7695b-171d-4cc5-9368-7e8616de9490",
   "metadata": {},
   "outputs": [
    {
     "data": {
      "text/plain": [
       "57.500"
      ]
     },
     "execution_count": 15,
     "metadata": {},
     "output_type": "execute_result"
    }
   ],
   "source": [
    "# 중앙값 구하기 (평균) \n",
    "np.median(df['english'])"
   ]
  },
  {
   "cell_type": "code",
   "execution_count": null,
   "id": "09185b1a-f567-479e-8463-d7fecd3bd6b7",
   "metadata": {},
   "outputs": [],
   "source": []
  },
  {
   "cell_type": "code",
   "execution_count": null,
   "id": "75443ed6-eab8-4ae1-b2fc-f348e600c83e",
   "metadata": {},
   "outputs": [],
   "source": []
  },
  {
   "cell_type": "code",
   "execution_count": null,
   "id": "c3d841e4-6ae1-4468-97da-680118f50920",
   "metadata": {},
   "outputs": [],
   "source": []
  }
 ],
 "metadata": {
  "kernelspec": {
   "display_name": "tutorial",
   "language": "python",
   "name": "env_django"
  },
  "language_info": {
   "codemirror_mode": {
    "name": "ipython",
    "version": 3
   },
   "file_extension": ".py",
   "mimetype": "text/x-python",
   "name": "python",
   "nbconvert_exporter": "python",
   "pygments_lexer": "ipython3",
   "version": "3.10.10"
  }
 },
 "nbformat": 4,
 "nbformat_minor": 5
}
