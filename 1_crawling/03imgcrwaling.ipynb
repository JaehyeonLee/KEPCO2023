{
 "cells": [
  {
   "cell_type": "markdown",
   "id": "1e6ad671-999c-4490-ba1f-6afe494db60f",
   "metadata": {},
   "source": [
    "네이버 이미지에서 키워드로 검색 후, 이미지 결과에서 이미지를 10개정도 받아서 img 폴더에 저장"
   ]
  },
  {
   "cell_type": "code",
   "execution_count": 70,
   "id": "65831b74-c02f-43bd-aa38-bbc7644e927d",
   "metadata": {},
   "outputs": [],
   "source": [
    "import requests\n",
    "from urllib import request\n",
    "from bs4 import BeautifulSoup"
   ]
  },
  {
   "cell_type": "code",
   "execution_count": 71,
   "id": "9ac46af7-e955-4786-ac82-113bd26d6538",
   "metadata": {},
   "outputs": [],
   "source": [
    "# https://search.naver.com/search.naver.com?where=image&sm=tab_jum&query=%EB%B4%84"
   ]
  },
  {
   "cell_type": "code",
   "execution_count": 72,
   "id": "673ad25f-a2d7-4af3-881b-28831f3ea665",
   "metadata": {},
   "outputs": [
    {
     "name": "stdin",
     "output_type": "stream",
     "text": [
      "검색어 >>> 봄\n"
     ]
    }
   ],
   "source": [
    "key = input('검색어 >>>')\n",
    "url = 'http://search.naver.com/search.naver'\n",
    "param = {\n",
    "    'where' : 'image',\n",
    "    'sm' : 'tab_jum',\n",
    "    'query' : key\n",
    "}\n",
    "\n",
    "r = requests.get(url,params=param)"
   ]
  },
  {
   "cell_type": "code",
   "execution_count": 73,
   "id": "bb2f2924-92b5-45c5-8578-ffb2c36974e3",
   "metadata": {},
   "outputs": [],
   "source": [
    "soup = BeautifulSoup(r.text,'lxml')\n",
    "result = soup.find_all('img')\n",
    "# print(result)\n"
   ]
  },
  {
   "cell_type": "code",
   "execution_count": 74,
   "id": "7779a4b4-9da0-42e4-a644-082b7a61c07a",
   "metadata": {},
   "outputs": [
    {
     "name": "stdout",
     "output_type": "stream",
     "text": [
      "url 오류\n"
     ]
    }
   ],
   "source": [
    "for i,item in enumerate(result):\n",
    "    try:\n",
    "        index = item['src'].index('&')\n",
    "        # print(index)\n",
    "        src = item['src'][:index]\n",
    "        src_list = src.split('.')[-1]\n",
    "        # print(src_list)\n",
    "        request.urlretrieve(src,'img/'+str(i)+'.'+src_list)\n",
    "    except:\n",
    "        print('url 오류')"
   ]
  },
  {
   "cell_type": "code",
   "execution_count": null,
   "id": "e325bec2-6735-4e34-8b6b-fb40caf6b753",
   "metadata": {},
   "outputs": [],
   "source": [
    "\n"
   ]
  },
  {
   "cell_type": "code",
   "execution_count": null,
   "id": "e67085b0-7841-40d9-85b4-e80747e6ba06",
   "metadata": {},
   "outputs": [],
   "source": []
  },
  {
   "cell_type": "code",
   "execution_count": null,
   "id": "b4619fa7-491b-46a2-a15e-98fb3b22de8b",
   "metadata": {},
   "outputs": [],
   "source": []
  },
  {
   "cell_type": "code",
   "execution_count": null,
   "id": "7560446b-9320-4cb3-babc-3334ca6bbcd3",
   "metadata": {},
   "outputs": [],
   "source": []
  }
 ],
 "metadata": {
  "kernelspec": {
   "display_name": "tutorial",
   "language": "python",
   "name": "env_django"
  },
  "language_info": {
   "codemirror_mode": {
    "name": "ipython",
    "version": 3
   },
   "file_extension": ".py",
   "mimetype": "text/x-python",
   "name": "python",
   "nbconvert_exporter": "python",
   "pygments_lexer": "ipython3",
   "version": "3.10.9"
  }
 },
 "nbformat": 4,
 "nbformat_minor": 5
}
