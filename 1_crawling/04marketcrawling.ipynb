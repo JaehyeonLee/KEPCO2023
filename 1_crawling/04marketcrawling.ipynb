{
 "cells": [
  {
   "cell_type": "code",
   "execution_count": null,
   "id": "5262adea-bc8d-420c-b5ea-e231c778f691",
   "metadata": {},
   "outputs": [],
   "source": [
    "# https://finance.naver.com/marketindex/exchangeList.naver"
   ]
  },
  {
   "cell_type": "code",
   "execution_count": 23,
   "id": "ec55e8cb-840f-4f19-a2c3-36f01eaf2ada",
   "metadata": {},
   "outputs": [],
   "source": [
    "import requests\n",
    "from urllib import request\n",
    "from bs4 import BeautifulSoup"
   ]
  },
  {
   "cell_type": "code",
   "execution_count": 24,
   "id": "987a6cb5-47a0-46fb-b019-668f5eeaaf61",
   "metadata": {},
   "outputs": [],
   "source": [
    "url = 'https://finance.naver.com/marketindex/exchangeList.naver'"
   ]
  },
  {
   "cell_type": "code",
   "execution_count": 25,
   "id": "335068e2-bfd6-49c6-88b4-ec231f5e6e25",
   "metadata": {},
   "outputs": [],
   "source": [
    "r = requests.get(url)"
   ]
  },
  {
   "cell_type": "code",
   "execution_count": 26,
   "id": "905cef1e-ea3d-4293-8fb8-f709d71eab5a",
   "metadata": {},
   "outputs": [],
   "source": [
    "soup = BeautifulSoup(r.text,'lxml')"
   ]
  },
  {
   "cell_type": "code",
   "execution_count": 36,
   "id": "57ac37a9-bc52-4f99-bb17-65df41b49bfe",
   "metadata": {},
   "outputs": [
    {
     "name": "stdout",
     "output_type": "stream",
     "text": [
      "[('미국 USD', 1315.5), ('유럽연합 EUR', 1424.16), ('일본 JPY (100엔)', 984.69), ('중국 CNY', 191.04), ('홍콩 HKD', 167.58), ('대만 TWD', 42.95), ('영국 GBP', 1619.51), ('오만 OMR', 3416.97), ('캐나다 CAD', 974.01), ('스위스 CHF', 1432.38), ('스웨덴 SEK', 126.6), ('호주 AUD', 879.67), ('뉴질랜드 NZD', 819.62), ('체코 CZK', 60.66), ('칠레 CLP', 1.65), ('튀르키예 TRY', 68.51), ('몽골 MNT', 0.37), ('이스라엘 ILS', 364.96), ('덴마크 DKK', 191.16), ('노르웨이 NOK', 126.26), ('사우디아라비아 SAR', 350.49), ('쿠웨이트 KWD', 4283.9), ('바레인 BHD', 3489.48), ('아랍에미리트 AED', 358.18), ('요르단 JOD', 1853.21), ('이집트 EGP', 42.71), ('태국 THB', 38.24), ('싱가포르 SGD', 987.13), ('말레이시아 MYR', 297.42), ('인도네시아 IDR 100', 8.81), ('카타르 QAR', 358.42), ('카자흐스탄 KZT', 2.91), ('브루나이 BND', 987.13), ('인도 INR', 15.97), ('파키스탄 PKR', 4.62), ('방글라데시 BDT', 12.49), ('필리핀 PHP', 24.06), ('멕시코 MXN', 73.09), ('브라질 BRL', 259.79), ('베트남 VND 100', 5.61), ('남아프리카 공화국 ZAR', 73.55), ('러시아 RUB', 16.98), ('헝가리 HUF', 3.75), ('폴란드 PLN', 304.42), ('스리랑카 LKR', 4.09), ('알제리 DZD', 9.68), ('케냐 KES', 9.92), ('콜롬비아 COP', 0.28), ('탄자니아 TZS', 0.56), ('네팔 NPR', 9.98), ('루마니아 RON', 288.08), ('리비아 LYD', 275.2), ('마카오 MOP', 162.59), ('미얀마 MMK', 0.63), ('에티오피아 ETB', 24.18), ('우즈베키스탄 UZS', 0.12), ('캄보디아 KHR', 0.32), ('피지 FJD', 594.47)]\n"
     ]
    }
   ],
   "source": [
    "name = []\n",
    "price = []\n",
    "data = soup.select('td.tit > a')\n",
    "for item in data:\n",
    "    # print(item.string.strip())\n",
    "    name.append(item.string.strip())\n",
    "    \n",
    "data = soup.select('td.sale')\n",
    "\n",
    "for item in data:\n",
    "    # print(item.string)\n",
    "    price.append(float(item.string.replace(',','')))\n",
    "items = list(zip(name,price))\n",
    "print(items)"
   ]
  },
  {
   "cell_type": "code",
   "execution_count": null,
   "id": "64d4d8a5-6771-4a54-8db9-5488a720f37d",
   "metadata": {},
   "outputs": [],
   "source": []
  },
  {
   "cell_type": "code",
   "execution_count": null,
   "id": "c1787f50-605a-4e39-b1f7-c70526a26a1a",
   "metadata": {},
   "outputs": [],
   "source": []
  }
 ],
 "metadata": {
  "kernelspec": {
   "display_name": "tutorial",
   "language": "python",
   "name": "env_django"
  },
  "language_info": {
   "codemirror_mode": {
    "name": "ipython",
    "version": 3
   },
   "file_extension": ".py",
   "mimetype": "text/x-python",
   "name": "python",
   "nbconvert_exporter": "python",
   "pygments_lexer": "ipython3",
   "version": "3.10.9"
  }
 },
 "nbformat": 4,
 "nbformat_minor": 5
}
