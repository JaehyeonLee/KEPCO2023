{
 "cells": [
  {
   "cell_type": "raw",
   "id": "fa1865e4-7754-4e46-9d6e-a108d2286c25",
   "metadata": {},
   "source": [
    "CGV 영화제목 크롤링 // https://www.cgv.co.kr/movies/"
   ]
  },
  {
   "cell_type": "code",
   "execution_count": 5,
   "id": "add6e80e-b662-4bdb-93d1-5ba6f8d9b820",
   "metadata": {},
   "outputs": [
    {
     "name": "stdout",
     "output_type": "stream",
     "text": [
      "더 퍼스트 슬램덩크\n",
      "스즈메의 문단속\n",
      "던전 앤 드래곤-도적들의 명예\n",
      "아임 히어로 더 파이널\n",
      "파벨만스\n",
      "찬란한 나의 복수\n",
      "오토라는 남자\n",
      "웅남이\n",
      "엘 카미노\n",
      "상견니\n",
      "흐르다\n",
      "귀멸의 칼날-상현집결, 그리고 도공 마을로\n",
      "소울메이트\n",
      "패왕별희 디 오리지널\n",
      "이니셰린의 밴시\n",
      "에브리씽 에브리웨어 올 앳 원스+\n",
      "더 웨일\n",
      "치킨래빗-잃어버린 보물을 찾아서\n",
      "멍뭉이\n"
     ]
    }
   ],
   "source": [
    "import requests\n",
    "from bs4 import BeautifulSoup\n",
    "\n",
    "url = \"http://www.cgv.co.kr/movies/\"\n",
    "r = requests.get(url)\n",
    "soup = BeautifulSoup(r.text, \"lxml\")\n",
    "\n",
    "for movie_title in soup.find_all(\"strong\", {\"class\": \"title\"}):\n",
    "    print(movie_title.text.strip())"
   ]
  },
  {
   "cell_type": "code",
   "execution_count": null,
   "id": "85be6699-fbfb-41b2-b46a-7e977d9b4c3f",
   "metadata": {},
   "outputs": [],
   "source": [
    "result = soup.find_all('title')\n",
    "print(result)"
   ]
  },
  {
   "cell_type": "code",
   "execution_count": null,
   "id": "eae7b3fc-814f-4fa2-86c2-1aca6dea09ef",
   "metadata": {},
   "outputs": [],
   "source": []
  },
  {
   "cell_type": "code",
   "execution_count": null,
   "id": "5494f287-8783-4653-9593-c36843caf2fe",
   "metadata": {},
   "outputs": [],
   "source": []
  },
  {
   "cell_type": "code",
   "execution_count": null,
   "id": "60676ef8-9a31-41a5-bb4d-be2147c5b44d",
   "metadata": {},
   "outputs": [],
   "source": []
  }
 ],
 "metadata": {
  "kernelspec": {
   "display_name": "tutorial",
   "language": "python",
   "name": "env_django"
  },
  "language_info": {
   "codemirror_mode": {
    "name": "ipython",
    "version": 3
   },
   "file_extension": ".py",
   "mimetype": "text/x-python",
   "name": "python",
   "nbconvert_exporter": "python",
   "pygments_lexer": "ipython3",
   "version": "3.10.9"
  }
 },
 "nbformat": 4,
 "nbformat_minor": 5
}
