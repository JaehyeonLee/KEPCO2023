{
 "cells": [
  {
   "cell_type": "code",
   "execution_count": 2,
   "id": "a9ec631f-78d4-4ad4-a53a-e2bd046bd2de",
   "metadata": {},
   "outputs": [],
   "source": [
    "import time\n",
    "from selenium import webdriver\n",
    "from selenium.webdriver.common.by import By\n",
    "from selenium.webdriver.chrome.service import Service"
   ]
  },
  {
   "cell_type": "code",
   "execution_count": 11,
   "id": "45388fa6-8b36-4240-aedd-51492f401603",
   "metadata": {},
   "outputs": [
    {
     "name": "stderr",
     "output_type": "stream",
     "text": [
      "C:\\Users\\admin\\AppData\\Local\\Temp\\ipykernel_19692\\1015027763.py:1: DeprecationWarning: executable_path has been deprecated, please pass in a Service object\n",
      "  driver = webdriver.Chrome('C:/pythonproject/1_crawling/chromedriver.exe')\n"
     ]
    }
   ],
   "source": [
    "driver = webdriver.Chrome('C:/pythonproject/1_crawling/chromedriver.exe') \n",
    "driver.get('https://naver.com')\n",
    "driver.implicitly_wait(10)\n",
    "driver.get('https://google.co.kr')\n",
    "time.sleep(5)\n",
    "driver.get('https://daum.net')\n",
    "driver.back()\n",
    "driver.fullscreen_window()\n",
    "time.sleep(3)\n",
    "driver.back()\n",
    "driver.set_window_rect(100,100,800,800)\n",
    "time.sleep(3)\n",
    "driver.forward()\n",
    "time.sleep(3)\n",
    "driver.quit()\n"
   ]
  },
  {
   "cell_type": "code",
   "execution_count": 14,
   "id": "bf2fe261-065e-4874-bb1e-5af8eb761553",
   "metadata": {},
   "outputs": [],
   "source": [
    "import selenium \n",
    "import time\n",
    "from selenium.webdriver.common.by import By\n",
    "from selenium.webdriver.common.keys import Keys"
   ]
  },
  {
   "cell_type": "code",
   "execution_count": 21,
   "id": "01c21f1a-b7b3-4d79-8d13-a4ab2e3a4d12",
   "metadata": {},
   "outputs": [
    {
     "name": "stderr",
     "output_type": "stream",
     "text": [
      "C:\\Users\\admin\\AppData\\Local\\Temp\\ipykernel_19692\\1515463119.py:1: DeprecationWarning: executable_path has been deprecated, please pass in a Service object\n",
      "  driver = webdriver.Chrome('C:/pythonproject/1_crawling/chromedriver.exe')\n"
     ]
    }
   ],
   "source": [
    "driver = webdriver.Chrome('C:/pythonproject/1_crawling/chromedriver.exe') \n",
    "driver.get('https://naver.com')\n",
    "time.sleep(5)\n",
    "search = driver.find_element(By.ID,'query')\n",
    "search.send_keys('봄')\n",
    "search.send_keys(Keys.ENTER)\n",
    "item =  driver.find_element(By.CSS_SELECTOR,'ul.base > li.menu:nth-child(2)')\n",
    "item.click()"
   ]
  },
  {
   "cell_type": "code",
   "execution_count": null,
   "id": "14a5169f-2ea8-4055-87e1-b3b34eaddec6",
   "metadata": {},
   "outputs": [],
   "source": []
  },
  {
   "cell_type": "code",
   "execution_count": null,
   "id": "bbb826e7-157f-4d63-83c5-930864fde8b6",
   "metadata": {},
   "outputs": [],
   "source": []
  }
 ],
 "metadata": {
  "kernelspec": {
   "display_name": "tutorial",
   "language": "python",
   "name": "env_django"
  },
  "language_info": {
   "codemirror_mode": {
    "name": "ipython",
    "version": 3
   },
   "file_extension": ".py",
   "mimetype": "text/x-python",
   "name": "python",
   "nbconvert_exporter": "python",
   "pygments_lexer": "ipython3",
   "version": "3.10.10"
  }
 },
 "nbformat": 4,
 "nbformat_minor": 5
}
