{
 "cells": [
  {
   "cell_type": "code",
   "execution_count": 38,
   "id": "fc291f28-ddcb-4d23-b41f-960a1febd649",
   "metadata": {},
   "outputs": [],
   "source": [
    "from bs4 import BeautifulSoup\n",
    "from selenium import webdriver\n",
    "from selenium.webdriver.common.by import By\n",
    "import time"
   ]
  },
  {
   "cell_type": "code",
   "execution_count": 39,
   "id": "a22d9d6d-f013-40ff-91bb-040be88e409c",
   "metadata": {},
   "outputs": [
    {
     "name": "stderr",
     "output_type": "stream",
     "text": [
      "C:\\Users\\admin\\AppData\\Local\\Temp\\ipykernel_21512\\4276965462.py:2: DeprecationWarning: executable_path has been deprecated, please pass in a Service object\n",
      "  driver = webdriver.Chrome('C:/pythonproject/1_crawling/chromedriver.exe')\n"
     ]
    },
    {
     "name": "stdout",
     "output_type": "stream",
     "text": [
      "대전목동DT  \n",
      "대전광역시 중구 동서대로 1387 (목동)\n",
      "---------------\n",
      "은행동  \n",
      "대전광역시 중구 중앙로 164 (은행동)\n",
      "---------------\n",
      "대전세이1층  \n",
      "대전광역시 중구 계백로 1700, 외 4필지 세이백화점 신관 (문화동)\n",
      "---------------\n",
      "대전중앙로R  \n",
      "대전광역시 중구 대종로 486 (은행동)\n",
      "---------------\n",
      "대전유천DT  \n",
      "대전광역시 중구 계백로 1604 (유천동)\n",
      "---------------\n",
      "대전태평  \n",
      "대전광역시 중구 태평로 71 (태평동)\n",
      "---------------\n",
      "대전대사DT  \n",
      "대전광역시 중구 계룡로 949 (대사동)\n",
      "---------------\n"
     ]
    }
   ],
   "source": [
    "url = 'https://www.starbucks.co.kr/store/store_map.do'\n",
    "driver = webdriver.Chrome('C:/pythonproject/1_crawling/chromedriver.exe') \n",
    "driver.get(url)\n",
    "time.sleep(5)\n",
    "# By id 가 아니라 CLASS_NAME 사용 , 이유는 모름\n",
    "loca = driver.find_element(By.CLASS_NAME,'loca_search')\n",
    "loca.click()\n",
    "\n",
    "sido = driver.find_elements(By.CSS_SELECTOR,'ul.sido_arae_box > li')\n",
    "sido[4].click()\n",
    "\n",
    "time.sleep(3)\n",
    "\n",
    "sido = driver.find_elements(By.CSS_SELECTOR,'ul.gugun_arae_box > li')\n",
    "sido[-1].click()\n",
    "\n",
    "time.sleep(3)\n",
    "page = driver.page_source\n",
    "soup = BeautifulSoup(page,'lxml')\n",
    "\n",
    "items = soup.select('ul.quickSearchResultBoxSidoGugun li')\n",
    "for li in items:\n",
    "    print(li.find('strong').string)\n",
    "    print(li.find('p').text.replace('1522-3232',''))\n",
    "    print('---------------')"
   ]
  },
  {
   "cell_type": "code",
   "execution_count": null,
   "id": "072b7359-35e4-43c8-ba3e-edc875f0de32",
   "metadata": {},
   "outputs": [],
   "source": [
    "\n"
   ]
  },
  {
   "cell_type": "code",
   "execution_count": null,
   "id": "ad988f59-abd7-4217-9e40-4fb2b0d85d70",
   "metadata": {},
   "outputs": [],
   "source": []
  },
  {
   "cell_type": "code",
   "execution_count": null,
   "id": "dd050327-0447-4c09-99d1-473c47f8ec59",
   "metadata": {},
   "outputs": [],
   "source": []
  },
  {
   "cell_type": "code",
   "execution_count": null,
   "id": "dc11a0d8-9c9c-4724-bb4a-ac77527ba5eb",
   "metadata": {},
   "outputs": [],
   "source": []
  },
  {
   "cell_type": "code",
   "execution_count": null,
   "id": "cec3bb2c-3e6d-4601-8583-03a3b1b05f59",
   "metadata": {},
   "outputs": [],
   "source": []
  },
  {
   "cell_type": "code",
   "execution_count": null,
   "id": "695af81f-bcee-4254-acad-f5b73ddf033d",
   "metadata": {},
   "outputs": [],
   "source": []
  },
  {
   "cell_type": "code",
   "execution_count": null,
   "id": "200da0f5-a997-431a-8232-41731f035843",
   "metadata": {},
   "outputs": [],
   "source": []
  }
 ],
 "metadata": {
  "kernelspec": {
   "display_name": "tutorial",
   "language": "python",
   "name": "env_django"
  },
  "language_info": {
   "codemirror_mode": {
    "name": "ipython",
    "version": 3
   },
   "file_extension": ".py",
   "mimetype": "text/x-python",
   "name": "python",
   "nbconvert_exporter": "python",
   "pygments_lexer": "ipython3",
   "version": "3.10.10"
  }
 },
 "nbformat": 4,
 "nbformat_minor": 5
}
