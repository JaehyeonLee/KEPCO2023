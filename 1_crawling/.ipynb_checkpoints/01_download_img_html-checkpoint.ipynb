{
 "cells": [
  {
   "cell_type": "markdown",
   "id": "d0a3e9de-6140-4b77-9c92-9bd5d168ac2b",
   "metadata": {
    "tags": []
   },
   "source": [
    "# 1. 이미지 다운로드\n",
    "## 01. urlib"
   ]
  },
  {
   "cell_type": "code",
   "execution_count": null,
   "id": "baf858e1-d161-4ac5-9f12-37623ea6bf56",
   "metadata": {},
   "outputs": [],
   "source": [
    "from urllib import request"
   ]
  },
  {
   "cell_type": "code",
   "execution_count": null,
   "id": "f66b6e20-d0d8-43f6-92cb-aeaf8ef6f8ed",
   "metadata": {},
   "outputs": [],
   "source": [
    "url = 'https://www.kowsc.org/news/photo/202203/2530_2844_136.jpg'\n",
    "savename ='test.jpg'"
   ]
  },
  {
   "cell_type": "code",
   "execution_count": null,
   "id": "d934702a-1482-40d1-9413-fb62b7ea8ba0",
   "metadata": {},
   "outputs": [],
   "source": [
    "request.urlretrieve(url,savename)"
   ]
  },
  {
   "cell_type": "markdown",
   "id": "d7b93f56-529c-4ba3-96d9-5b612d9b26cd",
   "metadata": {},
   "source": [
    "# 2.html 소스 다운로드"
   ]
  },
  {
   "cell_type": "code",
   "execution_count": null,
   "id": "3a583534-79fc-470c-aec3-6feae2c3eb2d",
   "metadata": {},
   "outputs": [],
   "source": [
    "from urllib import request"
   ]
  },
  {
   "cell_type": "code",
   "execution_count": null,
   "id": "bac720df-a51e-41c5-a4c3-2ad29ef83f42",
   "metadata": {},
   "outputs": [],
   "source": [
    "url = \"https://www.naver.com/\"\n",
    "request.urlopen(url).read().decode('utf8')"
   ]
  },
  {
   "cell_type": "markdown",
   "id": "824bc822-9f6b-491c-b1ee-f643d48ffbda",
   "metadata": {},
   "source": [
    "## request 이용"
   ]
  },
  {
   "cell_type": "code",
   "execution_count": null,
   "id": "80ae5e74-ee11-4345-929d-2465791558e7",
   "metadata": {},
   "outputs": [],
   "source": [
    "import requests"
   ]
  },
  {
   "cell_type": "code",
   "execution_count": null,
   "id": "0fc1532f-b723-4a1d-8049-2805282c9a18",
   "metadata": {},
   "outputs": [],
   "source": [
    "url = \"https://www.naver.com/\"\n",
    "r = requests.get(url)\n"
   ]
  },
  {
   "cell_type": "code",
   "execution_count": null,
   "id": "a4c415be-144c-44be-b9cf-be5b59878642",
   "metadata": {},
   "outputs": [],
   "source": [
    "type(r)"
   ]
  },
  {
   "cell_type": "code",
   "execution_count": null,
   "id": "1ac76d5a-f07f-468f-9150-e59cc0ed4222",
   "metadata": {},
   "outputs": [],
   "source": [
    "r.status_code"
   ]
  },
  {
   "cell_type": "code",
   "execution_count": null,
   "id": "81ddb9c7-5981-4449-afe8-65f4e78a5612",
   "metadata": {},
   "outputs": [],
   "source": [
    "r.headers['content-type']"
   ]
  },
  {
   "cell_type": "code",
   "execution_count": null,
   "id": "3e9bbc63-580d-40bc-bdba-cfa8ed9515a2",
   "metadata": {},
   "outputs": [],
   "source": [
    "r.encoding"
   ]
  },
  {
   "cell_type": "code",
   "execution_count": null,
   "id": "85959c5b-2f56-431c-91a9-7f4083b2e609",
   "metadata": {},
   "outputs": [],
   "source": [
    "# decode 안해도 안깨짐."
   ]
  },
  {
   "cell_type": "code",
   "execution_count": null,
   "id": "9ea9daa1-f08a-4ea6-acb3-798c8f19ac31",
   "metadata": {},
   "outputs": [],
   "source": [
    "r.text"
   ]
  },
  {
   "cell_type": "code",
   "execution_count": null,
   "id": "9c24f805-d884-433d-91bb-d1d6a4be610c",
   "metadata": {},
   "outputs": [],
   "source": [
    "r = requests.get('https://api.github.com/user',auth=('user','pass'))"
   ]
  },
  {
   "cell_type": "code",
   "execution_count": null,
   "id": "db3193f1-da86-462d-a65b-be0a6c5cc00b",
   "metadata": {},
   "outputs": [],
   "source": [
    "r.text"
   ]
  },
  {
   "cell_type": "code",
   "execution_count": null,
   "id": "0173f9ea-72b1-4a45-a078-21a1d611c268",
   "metadata": {},
   "outputs": [],
   "source": [
    "r.json"
   ]
  },
  {
   "cell_type": "code",
   "execution_count": null,
   "id": "acd0726c-315c-4ec7-94c6-3a858ddd5aab",
   "metadata": {},
   "outputs": [],
   "source": [
    "url =\"http://kobis.or.kr/kobisopenapi/webservice/rest/boxoffice/searchDailyBoxOfficeList.json?key=f5eef3421c602c6cb7ea224104795888&targetDt=20120101\"\n",
    "r = requests.get(url)\n",
    "r.json()"
   ]
  },
  {
   "cell_type": "markdown",
   "id": "d177316d-0838-4d5e-b1a4-7431e84100f0",
   "metadata": {},
   "source": [
    "## 03.keyword 넣어 html page 가져오기\n",
    "### urllib 이용"
   ]
  },
  {
   "cell_type": "code",
   "execution_count": null,
   "id": "818af46c-fce1-44c7-95e9-fe44c3a37968",
   "metadata": {},
   "outputs": [],
   "source": [
    "# ?를 기준으로 QueryString이 됨"
   ]
  },
  {
   "cell_type": "code",
   "execution_count": null,
   "id": "226b545d-251f-4493-ad8a-cc3143bed879",
   "metadata": {},
   "outputs": [],
   "source": [
    "'https://search.naver.com/search.naver?where=nexearch&sm=top_sug.pre&fbm=0&acr=1&acq=%EB%B2%9A%EA%BC%AC&qdt=0&ie=utf8&query=%EB%B2%9A%EA%BD%83'"
   ]
  },
  {
   "cell_type": "code",
   "execution_count": null,
   "id": "e4f74dac-94ae-4c7c-8b67-9ddd1f2c0a6e",
   "metadata": {},
   "outputs": [],
   "source": [
    "from urllib import request,parse"
   ]
  },
  {
   "cell_type": "code",
   "execution_count": null,
   "id": "7c51c24a-c677-4115-a364-a620c4a355ff",
   "metadata": {},
   "outputs": [],
   "source": [
    "query = input('검색할 키 >>>')\n",
    "url = 'https://search.naver.com/search.naver?where=nexearch&sm=top_sug.pre&fbm=0&acr=1&acq=%EB%B2%9A%EA%BC%AC&qdt=0&ie=utf8&query='+query\n",
    "request.urlopen(url).read()"
   ]
  },
  {
   "cell_type": "code",
   "execution_count": null,
   "id": "f1d797c1-ea5a-4b03-8fcf-b49f0b040ad6",
   "metadata": {},
   "outputs": [],
   "source": [
    "url = 'https://search.naver.com/search.naver?'\n",
    "values = {\n",
    "    'where':'nexearch',\n",
    "    'sm':'top_hty',\n",
    "    'fbm':1,\n",
    "    'ie':'utf8',\n",
    "    'query':query\n",
    "}\n",
    "params = parse.urlencode(values)\n",
    "url = url + params\n",
    "request.urlopen(url).read().decode('utf8')"
   ]
  },
  {
   "cell_type": "code",
   "execution_count": null,
   "id": "71062858-f9e6-425a-afd2-19a5a4fc041c",
   "metadata": {},
   "outputs": [],
   "source": [
    "url = 'https://search.naver.com/search.naver?'\n",
    "query = input(\"검색할 키 >>>\")\n",
    "values = {\n",
    "    # 'where':'nexearch',\n",
    "    # 'sm':'top_hty',\n",
    "    # 'fbm':1,\n",
    "    # 'ie':'utf8',\n",
    "    'query':query\n",
    "}\n",
    "params = parse.urlencode(values)\n",
    "url = url + params\n",
    "request.urlopen(url).read().decode('utf8')"
   ]
  },
  {
   "cell_type": "markdown",
   "id": "b0d880ae-e65b-41a5-a97b-10a268b936ec",
   "metadata": {},
   "source": [
    "#### 02.request 이용"
   ]
  },
  {
   "cell_type": "code",
   "execution_count": null,
   "id": "a2b21e30-9a89-415d-9f23-efed06a58ef9",
   "metadata": {},
   "outputs": [],
   "source": [
    "import requests"
   ]
  },
  {
   "cell_type": "code",
   "execution_count": null,
   "id": "268e8fd3-0aff-4155-824a-cdb740747476",
   "metadata": {},
   "outputs": [],
   "source": [
    "query = input(\"검색할 키 >>>\")\n",
    "url = 'https://search.naver.com/search.naver?'\n",
    "values = {\n",
    "    # 'where':'nexearch',\n",
    "    # 'sm':'top_hty',\n",
    "    # 'fbm':1,\n",
    "    # 'ie':'utf8',\n",
    "    'query':query\n",
    "}\n",
    "r = requests.get(url,params=values)\n",
    "r.text\n"
   ]
  },
  {
   "cell_type": "code",
   "execution_count": null,
   "id": "d577ec22-d575-453d-83ab-7ed28db3dc02",
   "metadata": {},
   "outputs": [],
   "source": []
  },
  {
   "cell_type": "code",
   "execution_count": null,
   "id": "17333d61-68a5-4ab7-9e69-eab95948adf3",
   "metadata": {},
   "outputs": [],
   "source": []
  }
 ],
 "metadata": {
  "kernelspec": {
   "display_name": "tutorial",
   "language": "python",
   "name": "env_django"
  },
  "language_info": {
   "codemirror_mode": {
    "name": "ipython",
    "version": 3
   },
   "file_extension": ".py",
   "mimetype": "text/x-python",
   "name": "python",
   "nbconvert_exporter": "python",
   "pygments_lexer": "ipython3",
   "version": "3.10.9"
  }
 },
 "nbformat": 4,
 "nbformat_minor": 5
}
