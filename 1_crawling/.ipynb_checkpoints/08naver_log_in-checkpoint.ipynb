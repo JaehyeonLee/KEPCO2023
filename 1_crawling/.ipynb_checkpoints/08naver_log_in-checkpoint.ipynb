{
 "cells": [
  {
   "cell_type": "code",
   "execution_count": 1,
   "id": "6fe2aeec-e791-42af-a7f9-6a2411177558",
   "metadata": {},
   "outputs": [],
   "source": [
    "from selenium import webdriver\n",
    "from selenium.webdriver.common.by import By\n",
    "from selenium.webdriver.common.keys import Keys\n",
    "import time\n",
    "import pyperclip"
   ]
  },
  {
   "cell_type": "code",
   "execution_count": 2,
   "id": "8c68de31-ccc6-49e7-be1f-6582d5dc7497",
   "metadata": {},
   "outputs": [],
   "source": [
    "id = 'nano1674'\n",
    "pw = '123456'"
   ]
  },
  {
   "cell_type": "code",
   "execution_count": null,
   "id": "8c23f99f-c9a4-4db9-abfb-64d796aa3bdf",
   "metadata": {},
   "outputs": [],
   "source": [
    "# url = 'https://nid.naver.com/nidlogin.login'\n",
    "# driver = webdriver.Chrome('C:/pythonproject/1_crawling/chromedriver.exe') \n",
    "# driver.get(url)\n",
    "# time.sleep(5)\n",
    "# # driver.find_element(By.ID,'id').send_keys(id)\n",
    "# # driver.find_element(By.ID,'pw').send_keys(pw)\n",
    "# driver.excute_script()\n",
    "# time.sleep(3)\n",
    "# driver.find_element(By.CLASS_NAME,'btn_login').click()"
   ]
  },
  {
   "cell_type": "code",
   "execution_count": null,
   "id": "f071ede8-192e-4acb-b2e8-9b3ffb04608e",
   "metadata": {},
   "outputs": [],
   "source": [
    "# url = 'https://nid.naver.com/nidlogin.login'\n",
    "# driver = webdriver.Chrome('C:/pythonproject/1_crawling/chromedriver.exe') \n",
    "# driver.get(url)\n",
    "# time.sleep(5)\n",
    "# driver.execute_script(\"documnet.getElementsByname('id')[0].value='\"+id+\"'\")\n",
    "# driver.execute_script(\"document.getElementsByname('pw')[0].value='\"+pw+\"'\")\n",
    "# time.sleep(3)\n",
    "# driver.find_element(By.CLASS_NAME,'btn_login').click()\n",
    "# driver.find_element(By.XPATH,//*[@id=\"log.login\"]).click()"
   ]
  },
  {
   "cell_type": "code",
   "execution_count": 5,
   "id": "483f9c96-501a-4fa0-af47-b6d555e8be44",
   "metadata": {},
   "outputs": [
    {
     "name": "stderr",
     "output_type": "stream",
     "text": [
      "C:\\Users\\admin\\AppData\\Local\\Temp\\ipykernel_27792\\3214991562.py:2: DeprecationWarning: executable_path has been deprecated, please pass in a Service object\n",
      "  driver = webdriver.Chrome('C:/pythonproject/1_crawling/chromedriver.exe')\n"
     ]
    },
    {
     "ename": "AttributeError",
     "evalue": "'WebElement' object has no attribute 'send'",
     "output_type": "error",
     "traceback": [
      "\u001b[1;31m---------------------------------------------------------------------------\u001b[0m",
      "\u001b[1;31mAttributeError\u001b[0m                            Traceback (most recent call last)",
      "Cell \u001b[1;32mIn[5], line 9\u001b[0m\n\u001b[0;32m      7\u001b[0m ele_id\u001b[38;5;241m.\u001b[39mclick()\n\u001b[0;32m      8\u001b[0m pyperclip\u001b[38;5;241m.\u001b[39mcopy(\u001b[38;5;28mid\u001b[39m)\n\u001b[1;32m----> 9\u001b[0m \u001b[43mele_id\u001b[49m\u001b[38;5;241;43m.\u001b[39;49m\u001b[43msend\u001b[49m\u001b[38;5;241m.\u001b[39m_keys(Keys\u001b[38;5;241m.\u001b[39mCONTROL,\u001b[38;5;124m'\u001b[39m\u001b[38;5;124mv\u001b[39m\u001b[38;5;124m'\u001b[39m)\n\u001b[0;32m     10\u001b[0m time\u001b[38;5;241m.\u001b[39msleep(\u001b[38;5;241m2\u001b[39m)\n\u001b[0;32m     12\u001b[0m ele_pw \u001b[38;5;241m=\u001b[39m driver\u001b[38;5;241m.\u001b[39mfind_element(By\u001b[38;5;241m.\u001b[39mID,\u001b[38;5;124m'\u001b[39m\u001b[38;5;124mpw\u001b[39m\u001b[38;5;124m'\u001b[39m)\n",
      "\u001b[1;31mAttributeError\u001b[0m: 'WebElement' object has no attribute 'send'"
     ]
    }
   ],
   "source": [
    "url = 'https://nid.naver.com/nidlogin.login'\n",
    "driver = webdriver.Chrome('C:/pythonproject/1_crawling/chromedriver.exe') \n",
    "driver.get(url)\n",
    "time.sleep(5)\n",
    "\n",
    "ele_id = driver.find_element(By.ID,'id')\n",
    "ele_id.click()\n",
    "pyperclip.copy(id)\n",
    "ele_id.send._keys(Keys.CONTROL,'v')\n",
    "time.sleep(2)\n",
    "\n",
    "ele_pw = driver.find_element(By.ID,'pw')\n",
    "ele_pw.click()\n",
    "pyperclip.copy(pw)\n",
    "ele_pw.send._keys(Keys.CONTROL,'v')\n",
    "time.sleep(2)\n",
    "\n",
    "\n",
    "\n",
    "time.sleep(3)\n",
    "# driver.find_element(By.CLASS_NAME,'btn_login').click()\n",
    "driver.find_element(By.XPATH,'//*[@id=\"log.login\"]').click()"
   ]
  },
  {
   "cell_type": "code",
   "execution_count": null,
   "id": "9ed010b1-d1f3-4d44-91ab-1512d26c09bc",
   "metadata": {},
   "outputs": [],
   "source": []
  },
  {
   "cell_type": "code",
   "execution_count": null,
   "id": "afca47fc-b1c8-4a0d-8b3b-370718db13ba",
   "metadata": {},
   "outputs": [],
   "source": []
  },
  {
   "cell_type": "code",
   "execution_count": null,
   "id": "04baffb0-c03d-4ea5-af03-5632a583557a",
   "metadata": {},
   "outputs": [],
   "source": []
  }
 ],
 "metadata": {
  "kernelspec": {
   "display_name": "tutorial",
   "language": "python",
   "name": "env_django"
  },
  "language_info": {
   "codemirror_mode": {
    "name": "ipython",
    "version": 3
   },
   "file_extension": ".py",
   "mimetype": "text/x-python",
   "name": "python",
   "nbconvert_exporter": "python",
   "pygments_lexer": "ipython3",
   "version": "3.10.10"
  }
 },
 "nbformat": 4,
 "nbformat_minor": 5
}
