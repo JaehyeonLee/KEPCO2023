{
 "cells": [
  {
   "cell_type": "code",
   "execution_count": 9,
   "id": "ac0ea8b7-eb13-4c96-b7c6-0375016bee69",
   "metadata": {},
   "outputs": [],
   "source": [
    "from bs4 import BeautifulSoup"
   ]
  },
  {
   "cell_type": "code",
   "execution_count": 10,
   "id": "b39b511e-3e56-4537-a8b3-d59bb9f560ee",
   "metadata": {},
   "outputs": [],
   "source": [
    "html_doc = \"\"\"<html><head><title>The Dormouse's story</title></head>\n",
    "<body>\n",
    "<p class=\"title\"><b>The Dormouse's story</b></p>\n",
    "\n",
    "<p class=\"story\">Once upon a time there were three little sisters; and their names were\n",
    "<a href=\"http://example.com/elsie\" class=\"sister\" id=\"link1\">Elsie</a>,\n",
    "<a href=\"http://example.com/lacie\" class=\"sister\" id=\"link2\">Lacie</a> and\n",
    "<a href=\"http://example.com/tillie\" class=\"sister\" id=\"link3\">Tillie</a>;\n",
    "and they lived at the bottom of a well.</p>\n",
    "\n",
    "<p class=\"story\">...</p>\n",
    "\"\"\""
   ]
  },
  {
   "cell_type": "code",
   "execution_count": 11,
   "id": "895a94bf-37cd-44c4-b5a1-54859b1d7900",
   "metadata": {},
   "outputs": [],
   "source": [
    "soup = BeautifulSoup(html_doc, 'html.parser')"
   ]
  },
  {
   "cell_type": "code",
   "execution_count": 12,
   "id": "aa732e86-9b54-4f66-bc5d-655d316f9c84",
   "metadata": {},
   "outputs": [
    {
     "name": "stdout",
     "output_type": "stream",
     "text": [
      "http://example.com/elsie\n",
      "http://example.com/lacie\n",
      "http://example.com/tillie\n"
     ]
    }
   ],
   "source": [
    "for link in soup.find_all('a'):\n",
    "    print(link.get('href'))"
   ]
  },
  {
   "cell_type": "code",
   "execution_count": 22,
   "id": "9a3c33ba-7639-41e0-8f76-7f295ff5f1da",
   "metadata": {},
   "outputs": [
    {
     "data": {
      "text/plain": [
       "<a class=\"sister\" href=\"http://example.com/tillie\" id=\"link3\">Tillie</a>"
      ]
     },
     "execution_count": 22,
     "metadata": {},
     "output_type": "execute_result"
    }
   ],
   "source": [
    "soup.find(id=\"link3\")"
   ]
  },
  {
   "cell_type": "code",
   "execution_count": 23,
   "id": "cc1418fb-fcc2-47a4-96ff-2b5ed085b2bc",
   "metadata": {},
   "outputs": [
    {
     "data": {
      "text/plain": [
       "<a class=\"sister\" href=\"http://example.com/elsie\" id=\"link1\">Elsie</a>"
      ]
     },
     "execution_count": 23,
     "metadata": {},
     "output_type": "execute_result"
    }
   ],
   "source": [
    "soup.a"
   ]
  },
  {
   "cell_type": "code",
   "execution_count": 18,
   "id": "804e30b2-b865-46ef-ad93-521d05c70200",
   "metadata": {},
   "outputs": [],
   "source": [
    "tag = soup.find('a')\n",
    "            "
   ]
  },
  {
   "cell_type": "code",
   "execution_count": 19,
   "id": "095bde7c-eb2a-4761-9b3d-3cd5f35c5edb",
   "metadata": {},
   "outputs": [
    {
     "data": {
      "text/plain": [
       "{'href': 'http://example.com/elsie', 'class': ['sister'], 'id': 'link1'}"
      ]
     },
     "execution_count": 19,
     "metadata": {},
     "output_type": "execute_result"
    }
   ],
   "source": [
    "tag.attrs"
   ]
  },
  {
   "cell_type": "code",
   "execution_count": 15,
   "id": "e9b7dfe6-e213-481a-ab0b-d97dad250976",
   "metadata": {},
   "outputs": [],
   "source": [
    "head_tag = soup.head"
   ]
  },
  {
   "cell_type": "code",
   "execution_count": 16,
   "id": "2e2ea60e-4d7f-4e97-8404-dcf5141fd8e7",
   "metadata": {},
   "outputs": [
    {
     "data": {
      "text/plain": [
       "[<title>The Dormouse's story</title>]"
      ]
     },
     "execution_count": 16,
     "metadata": {},
     "output_type": "execute_result"
    }
   ],
   "source": [
    "head_tag.contents"
   ]
  },
  {
   "cell_type": "code",
   "execution_count": 21,
   "id": "cc73d693-ec50-4446-b89a-46b1a68e5ff6",
   "metadata": {},
   "outputs": [
    {
     "name": "stdout",
     "output_type": "stream",
     "text": [
      "[<b>The Dormouse's story</b>]\n",
      "The Dormouse's story\n",
      "<list_iterator object at 0x0000014FB515F6A0>\n",
      "['Once upon a time there were three little sisters; and their names were\\n', <a class=\"sister\" href=\"http://example.com/elsie\" id=\"link1\">Elsie</a>, ',\\n', <a class=\"sister\" href=\"http://example.com/lacie\" id=\"link2\">Lacie</a>, ' and\\n', <a class=\"sister\" href=\"http://example.com/tillie\" id=\"link3\">Tillie</a>, ';\\nand they lived at the bottom of a well.']\n",
      "Once upon a time there were three little sisters; and their names were\n",
      "Elsie,\n",
      "Lacie and\n",
      "Tillie;\n",
      "and they lived at the bottom of a well.\n",
      "<list_iterator object at 0x0000014FB515F6A0>\n",
      "<list_iterator object at 0x0000014FB515F6A0>\n",
      "<list_iterator object at 0x0000014FB515F6A0>\n",
      "<list_iterator object at 0x0000014FB515F6A0>\n",
      "<list_iterator object at 0x0000014FB515F6A0>\n",
      "<list_iterator object at 0x0000014FB515F6A0>\n",
      "<list_iterator object at 0x0000014FB515F6A0>\n",
      "['...']\n",
      "...\n",
      "<list_iterator object at 0x0000014FB515F6A0>\n"
     ]
    }
   ],
   "source": [
    "for p in soup.find_all('p'):\n",
    "    print(p.contents)\n",
    "    print(p.text)\n",
    "    for item in p.children:\n",
    "        print(p.children)\n"
   ]
  },
  {
   "cell_type": "code",
   "execution_count": 24,
   "id": "eccaed6c-40fe-4477-96b2-98f552697f59",
   "metadata": {},
   "outputs": [
    {
     "data": {
      "text/plain": [
       "[<title>The Dormouse's story</title>]"
      ]
     },
     "execution_count": 24,
     "metadata": {},
     "output_type": "execute_result"
    }
   ],
   "source": [
    "soup.select('title')"
   ]
  },
  {
   "cell_type": "code",
   "execution_count": 28,
   "id": "27e84001-b281-4614-a29e-e1829b363343",
   "metadata": {},
   "outputs": [
    {
     "data": {
      "text/plain": [
       "[<p class=\"title\"><b>The Dormouse's story</b></p>]"
      ]
     },
     "execution_count": 28,
     "metadata": {},
     "output_type": "execute_result"
    }
   ],
   "source": [
    "soup.select('p:nth-of-type(1)')"
   ]
  },
  {
   "cell_type": "code",
   "execution_count": 29,
   "id": "9de18523-08c0-4268-ad4f-7717cf845724",
   "metadata": {},
   "outputs": [
    {
     "data": {
      "text/plain": [
       "[<a class=\"sister\" href=\"http://example.com/elsie\" id=\"link1\">Elsie</a>,\n",
       " <a class=\"sister\" href=\"http://example.com/lacie\" id=\"link2\">Lacie</a>,\n",
       " <a class=\"sister\" href=\"http://example.com/tillie\" id=\"link3\">Tillie</a>]"
      ]
     },
     "execution_count": 29,
     "metadata": {},
     "output_type": "execute_result"
    }
   ],
   "source": [
    "soup.select('body a')"
   ]
  },
  {
   "cell_type": "code",
   "execution_count": 30,
   "id": "e81d374e-b339-49b8-b010-f3a29604de85",
   "metadata": {},
   "outputs": [
    {
     "data": {
      "text/plain": [
       "[]"
      ]
     },
     "execution_count": 30,
     "metadata": {},
     "output_type": "execute_result"
    }
   ],
   "source": [
    "soup.select('body > a')"
   ]
  },
  {
   "cell_type": "code",
   "execution_count": 32,
   "id": "a2ae8b7b-2814-4e60-ae9d-7568e7002e19",
   "metadata": {},
   "outputs": [
    {
     "data": {
      "text/plain": [
       "[<a class=\"sister\" href=\"http://example.com/elsie\" id=\"link1\">Elsie</a>,\n",
       " <a class=\"sister\" href=\"http://example.com/lacie\" id=\"link2\">Lacie</a>,\n",
       " <a class=\"sister\" href=\"http://example.com/tillie\" id=\"link3\">Tillie</a>]"
      ]
     },
     "execution_count": 32,
     "metadata": {},
     "output_type": "execute_result"
    }
   ],
   "source": [
    "soup.select(\"a\")"
   ]
  },
  {
   "cell_type": "code",
   "execution_count": 33,
   "id": "8400c9fa-9f26-4942-ab77-b171d9c2c1ea",
   "metadata": {},
   "outputs": [
    {
     "data": {
      "text/plain": [
       "[<a class=\"sister\" href=\"http://example.com/tillie\" id=\"link3\">Tillie</a>]"
      ]
     },
     "execution_count": 33,
     "metadata": {},
     "output_type": "execute_result"
    }
   ],
   "source": [
    "soup.select(\"#link2 ~.sister\")"
   ]
  },
  {
   "cell_type": "code",
   "execution_count": 39,
   "id": "55d3cad1-80da-4b28-a36b-b8a6b4ebcddb",
   "metadata": {},
   "outputs": [],
   "source": [
    "class simple:\n",
    "    pass"
   ]
  },
  {
   "cell_type": "code",
   "execution_count": 40,
   "id": "5cd8d436-c85a-4444-ac28-f55e47d4c325",
   "metadata": {},
   "outputs": [
    {
     "name": "stdout",
     "output_type": "stream",
     "text": [
      "<__main__.simple object at 0x0000014FB6ACF460>\n"
     ]
    }
   ],
   "source": [
    "s= simple()\n",
    "print (s)"
   ]
  },
  {
   "cell_type": "code",
   "execution_count": 43,
   "id": "893b31f5-488a-43a9-90fd-aae578aa3e01",
   "metadata": {},
   "outputs": [],
   "source": [
    "class simple:\n",
    "    def __init__(self,name,age):\n",
    "        self.name = name\n",
    "        self.age = age\n",
    "    def __str__ (self):\n",
    "        return f'이름은 {self.name}, 나이는 {self.age}살 입니다.'"
   ]
  },
  {
   "cell_type": "code",
   "execution_count": 46,
   "id": "a7389fa0-ffde-404f-b680-a89791cfbd7f",
   "metadata": {},
   "outputs": [
    {
     "name": "stdout",
     "output_type": "stream",
     "text": [
      "이름은 홍길동, 나이는 20살 입니다. 이름은 가나다, 나이는 40살 입니다.\n"
     ]
    }
   ],
   "source": [
    "s = simple('홍길동',20)\n",
    "s1 = simple('가나다',40)\n",
    "print(s,s1)"
   ]
  },
  {
   "cell_type": "code",
   "execution_count": 53,
   "id": "251bab8b-13db-4e81-a16b-d0007d7ef81a",
   "metadata": {},
   "outputs": [
    {
     "data": {
      "text/plain": [
       "[<a class=\"sister\" href=\"http://example.com/elsie\" id=\"link1\">Elsie</a>,\n",
       " <a class=\"sister\" href=\"http://example.com/lacie\" id=\"link2\">Lacie</a>,\n",
       " <a class=\"sister\" href=\"http://example.com/tillie\" id=\"link3\">Tillie</a>]"
      ]
     },
     "execution_count": 53,
     "metadata": {},
     "output_type": "execute_result"
    }
   ],
   "source": [
    "soup.select('[class^=sis]')"
   ]
  },
  {
   "cell_type": "code",
   "execution_count": null,
   "id": "8ae6465a-a4b4-4c3d-bc3d-ce7b2597d451",
   "metadata": {},
   "outputs": [],
   "source": [
    "soup.select('[class$=#ter]')"
   ]
  },
  {
   "cell_type": "code",
   "execution_count": 52,
   "id": "7f23f116-7504-4e70-bb20-acc29f569ac4",
   "metadata": {},
   "outputs": [
    {
     "data": {
      "text/plain": [
       "[<a class=\"sister\" href=\"http://example.com/elsie\" id=\"link1\">Elsie</a>,\n",
       " <a class=\"sister\" href=\"http://example.com/lacie\" id=\"link2\">Lacie</a>,\n",
       " <a class=\"sister\" href=\"http://example.com/tillie\" id=\"link3\">Tillie</a>]"
      ]
     },
     "execution_count": 52,
     "metadata": {},
     "output_type": "execute_result"
    }
   ],
   "source": [
    "soup.select('[class*=is]')"
   ]
  },
  {
   "cell_type": "code",
   "execution_count": null,
   "id": "ce58055a-e917-423a-96af-3b9641e98386",
   "metadata": {},
   "outputs": [],
   "source": []
  },
  {
   "cell_type": "code",
   "execution_count": null,
   "id": "3a6d3a11-b131-41d5-9f30-fd24fc7549af",
   "metadata": {},
   "outputs": [],
   "source": []
  },
  {
   "cell_type": "code",
   "execution_count": null,
   "id": "87cce9a0-332f-4385-9d32-ee0e84fa6f96",
   "metadata": {},
   "outputs": [],
   "source": []
  }
 ],
 "metadata": {
  "kernelspec": {
   "display_name": "tutorial",
   "language": "python",
   "name": "env_django"
  },
  "language_info": {
   "codemirror_mode": {
    "name": "ipython",
    "version": 3
   },
   "file_extension": ".py",
   "mimetype": "text/x-python",
   "name": "python",
   "nbconvert_exporter": "python",
   "pygments_lexer": "ipython3",
   "version": "3.10.10"
  }
 },
 "nbformat": 4,
 "nbformat_minor": 5
}
