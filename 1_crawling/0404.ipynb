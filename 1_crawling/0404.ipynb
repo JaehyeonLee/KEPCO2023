{
 "cells": [
  {
   "cell_type": "code",
   "execution_count": 3,
   "id": "7cbf21fb-bb19-4cae-990d-5557aa945a49",
   "metadata": {},
   "outputs": [],
   "source": [
    "from urllib import request\n",
    "from bs4 import BeautifulSoup"
   ]
  },
  {
   "cell_type": "code",
   "execution_count": null,
   "id": "9cbc7f90-036b-41ff-9b7f-3baf38d45ecd",
   "metadata": {},
   "outputs": [],
   "source": [
    "url = 'http://www.cgv.co.kr/movies/'\n",
    "r = request.urlopen(url)\n",
    "soup = BeautifulSoup(r,'lxml')"
   ]
  },
  {
   "cell_type": "code",
   "execution_count": null,
   "id": "46589ba7-31e3-4a16-bb50-c127b522da50",
   "metadata": {},
   "outputs": [],
   "source": [
    "result = soup.select('strong.title')\n",
    "for item in result:\n",
    "    print(item.text)"
   ]
  },
  {
   "cell_type": "code",
   "execution_count": 48,
   "id": "0b94e32b-f9e7-4fce-b199-a2de85148500",
   "metadata": {},
   "outputs": [],
   "source": [
    "from urllib import request\n",
    "from bs4 import BeautifulSoup"
   ]
  },
  {
   "cell_type": "code",
   "execution_count": 49,
   "id": "684d8b8c-2c78-4e3c-846f-85e09cf0d469",
   "metadata": {},
   "outputs": [],
   "source": [
    "url = 'https://music.bugs.co.kr/chart'\n",
    "r = request.urlopen(url)\n",
    "soup = BeautifulSoup(r,'lxml')"
   ]
  },
  {
   "cell_type": "code",
   "execution_count": 54,
   "id": "b2e06b88-da39-48e0-9403-0096a69f1d8d",
   "metadata": {},
   "outputs": [],
   "source": [
    "title_list = []\n",
    "artist_list = []\n",
    "\n",
    "title = soup.select('p.title > a')\n",
    "for item in title:\n",
    "    title_list.append(item.text)"
   ]
  },
  {
   "cell_type": "code",
   "execution_count": 55,
   "id": "c0296ea6-e4aa-4c9e-925d-8459c658542b",
   "metadata": {},
   "outputs": [
    {
     "name": "stdout",
     "output_type": "stream",
     "text": [
      "[('Kitsch', 'IVE (아이브)'), ('꽃', '지수(JISOO)'), ('Zero', 'NewJeans'), ('Ditto', 'NewJeans'), ('Hype Boy', 'NewJeans'), ('Teddy Bear', 'STAYC(스테이씨)'), ('Love Me Like This', 'NMIXX'), ('OMG', 'NewJeans'), ('건물 사이에 피어난 장미 (Rose Blossom)', 'H1-KEY (하이키)'), ('CHRISTIAN', '지올팍(Zior Park)'), ('Attention', 'NewJeans'), ('파이팅 해야지 (Feat. 이영지)', '부석순(SEVENTEEN)'), ('밤이 무서워요 (Lonely Night)', '주주 시크릿'), ('I Don’t Think That I Like Her', 'Charlie Puth(찰리 푸스)'), ('사건의 지평선', '윤하(Younha/ユンナ)'), ('ANTIFRAGILE', 'LE SSERAFIM (르세라핌)'), ('After LIKE', 'IVE (아이브)'), ('LOVE DIVE', 'IVE (아이브)'), ('Poppy (Korean Ver.)', 'STAYC(스테이씨)'), ('심(心)', 'DK(디셈버)'), ('Dangerously', 'Charlie Puth(찰리 푸스)'), ('한 페이지가 될 수 있게', 'DAY6 (데이식스)'), ('VIBE (feat. Jimin of BTS)', '태양'), ('오르트구름', '윤하(Younha/ユンナ)'), ('Nostalgia', '우디(Woody)'), ('When I Get Old', 'Christopher(크리스토퍼)'), ('Like Crazy', '지민'), ('Young, Dumb, Stupid', 'NMIXX'), ('Candy', 'NCT DREAM'), ('사랑인가 봐', '멜로망스(MeloMance)'), ('Shut Down', 'BLACKPINK'), ('Unholy', 'Sam Smith(샘 스미스)'), ('Pink Venom', 'BLACKPINK'), ('FEARLESS', 'LE SSERAFIM (르세라핌)'), ('너의 모든 순간', '성시경'), ('Cookie', 'NewJeans'), (\"That's Hilarious\", 'Charlie Puth(찰리 푸스)'), ('벚꽃 엔딩', '버스커 버스커(Busker Busker)'), ('봄 사랑 벚꽃 말고', '하이포(HIGH4)'), ('STAY', 'The Kid LAROI'), ('That’s Not How This Works (feat. Dan + Shay)', 'Charlie Puth(찰리 푸스)'), ('ELEVEN', 'IVE (아이브)'), ('Say I Love You', '우디(Woody)'), ('WHEN I MOVE', '카라(Kara)'), ('Feel My Rhythm', 'Red Velvet (레드벨벳)'), ('그라데이션', '10CM'), ('Nxde', '(여자)아이들'), ('Rising', 'tripleS (트리플에스)'), ('정이라고 하자 (Feat. 10CM)', 'BIG Naughty (서동현)'), ('Rush Hour (Feat. j-hope of BTS)', 'Crush'), ('TOMBOY', '(여자)아이들'), ('다정히 내 이름을 부르면', '경서예지'), ('해요 (2022)', '#안녕'), ('Off My Face', 'Justin Bieber(저스틴 비버)'), ('모든 날, 모든 순간 (Every day, Every Moment)', '폴킴(Paul Kim)'), ('새삥 (Prod. ZICO) (Feat. 호미들)', '지코 (ZICO)'), ('NOT SORRY (Feat. pH-1) (Prod. by Slom)', '이영지'), ('Monologue', '테이(Tei)'), ('그때 그 순간 그대로 (그그그)', 'WSG워너비 (가야G)'), ('Dreamers [Music from the FIFA World Cup Qatar 2022 Official Soundtrack] (feat. FIFA Sound)', '정국'), ('취중고백', '김민석 (멜로망스)'), ('SET ME FREE', 'TWICE (트와이스)'), ('strawberry moon', '아이유(IU)'), ('Impurities', 'LE SSERAFIM (르세라핌)'), ('주저하는 연인들을 위해', '잔나비'), ('결국엔 너에게 닿아서', 'WSG워너비 (가야G)'), ('봄날', '방탄소년단'), ('사랑은 늘 도망가', '임영웅'), ('Expectations', 'Anne-Marie(앤 마리)'), ('INVU', '태연 (TAEYEON)'), ('LOVE me', \"BE'O (비오)\"), ('봄여름가을겨울 (Still Life)', 'BIGBANG (빅뱅)'), ('도깨비불 (Illusion)', 'aespa'), ('나의 X에게', '경서'), ('Love story', '볼빨간사춘기'), ('친구로 지내다 보면 (Feat. 김민석 of 멜로망스)', 'BIG Naughty (서동현)'), ('Hurt', 'NewJeans'), ('자격지심 (Feat. ZICO)', \"BE'O (비오)\"), ('Cupid', 'FIFTY FIFTY'), ('내가 아니라도', '주호'), ('보고싶었어', 'WSG워너비(4FIRE)'), ('그댄 행복에 살텐데 (2022)', '최유리'), ('All Eyes On Me', '지수(JISOO)'), ('Left and Right (Feat. Jung Kook of BTS)', 'Charlie Puth(찰리 푸스)'), ('Dynamite', '방탄소년단'), ('팡파레', '다비치'), (\"I Ain't Worried\", 'OneRepublic(원리퍼블릭)'), ('Next Level', 'aespa'), ('Made You Look', 'Meghan Trainor(메간 트레이너)'), ('딱 10CM만', '10CM'), ('우린 그렇게 사랑해서', '강민경'), ('아모르 파티', '이홍기 (FT아일랜드)'), ('마지막 사랑', '신예영'), ('그대를 알고', '송하예'), ('Anti-Hero', 'Taylor Swift(테일러 스위프트)'), ('사랑하지 않아서 그랬어', '임한별'), ('사랑하기 싫어', '지아(Zia)'), ('Set Me Free Pt.2', '지민'), ('혼자서 걸어요 (Prod. by 나얼)', '태연 (TAEYEON)'), ('떠나보낼 준비해 둘걸 그랬어', '임한별')]\n"
     ]
    }
   ],
   "source": [
    "artist_list_final = []\n",
    "artist = soup.select('p.artist')\n",
    "for item in artist:\n",
    "    artist_list.append(item.text.strip())\n",
    "for item in artist_list:\n",
    "    artist_list_final.append(item.replace('\\n\\n\\r\\n',',').split(',')[0])\n",
    "result  = list(zip(title_list,artist_list_final))\n",
    "print(result)\n",
    "    "
   ]
  },
  {
   "cell_type": "code",
   "execution_count": null,
   "id": "1360b69a-2298-42b3-b362-19da8262c750",
   "metadata": {},
   "outputs": [],
   "source": []
  }
 ],
 "metadata": {
  "kernelspec": {
   "display_name": "tutorial",
   "language": "python",
   "name": "env_django"
  },
  "language_info": {
   "codemirror_mode": {
    "name": "ipython",
    "version": 3
   },
   "file_extension": ".py",
   "mimetype": "text/x-python",
   "name": "python",
   "nbconvert_exporter": "python",
   "pygments_lexer": "ipython3",
   "version": "3.10.9"
  }
 },
 "nbformat": 4,
 "nbformat_minor": 5
}
