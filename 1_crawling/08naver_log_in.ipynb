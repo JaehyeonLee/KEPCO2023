{
 "cells": [
  {
   "cell_type": "code",
   "execution_count": null,
   "id": "6fe2aeec-e791-42af-a7f9-6a2411177558",
   "metadata": {},
   "outputs": [],
   "source": [
    "from selenium import webdriver\n",
    "from selenium.webdriver.common.by import By\n",
    "from selenium.webdriver.common.keys import Keys\n",
    "import time\n",
    "import pyperclip"
   ]
  },
  {
   "cell_type": "code",
   "execution_count": null,
   "id": "8c68de31-ccc6-49e7-be1f-6582d5dc7497",
   "metadata": {},
   "outputs": [],
   "source": [
    "id = 'nano1674'\n",
    "pw = '123456'"
   ]
  },
  {
   "cell_type": "code",
   "execution_count": null,
   "id": "8c23f99f-c9a4-4db9-abfb-64d796aa3bdf",
   "metadata": {},
   "outputs": [],
   "source": [
    "# url = 'https://nid.naver.com/nidlogin.login'\n",
    "# driver = webdriver.Chrome('C:/pythonproject/1_crawling/chromedriver.exe') \n",
    "# driver.get(url)\n",
    "# time.sleep(5)\n",
    "# # driver.find_element(By.ID,'id').send_keys(id)\n",
    "# # driver.find_element(By.ID,'pw').send_keys(pw)\n",
    "# driver.excute_script()\n",
    "# time.sleep(3)\n",
    "# driver.find_element(By.CLASS_NAME,'btn_login').click()"
   ]
  },
  {
   "cell_type": "code",
   "execution_count": null,
   "id": "f071ede8-192e-4acb-b2e8-9b3ffb04608e",
   "metadata": {},
   "outputs": [],
   "source": [
    "# url = 'https://nid.naver.com/nidlogin.login'\n",
    "# driver = webdriver.Chrome('C:/pythonproject/1_crawling/chromedriver.exe') \n",
    "# driver.get(url)\n",
    "# time.sleep(5)\n",
    "# driver.execute_script(\"documnet.getElementsByname('id')[0].value='\"+id+\"'\")\n",
    "# driver.execute_script(\"document.getElementsByname('pw')[0].value='\"+pw+\"'\")\n",
    "# time.sleep(3)\n",
    "# driver.find_element(By.CLASS_NAME,'btn_login').click()\n",
    "# driver.find_element(By.XPATH,//*[@id=\"log.login\"]).click()"
   ]
  },
  {
   "cell_type": "code",
   "execution_count": null,
   "id": "483f9c96-501a-4fa0-af47-b6d555e8be44",
   "metadata": {},
   "outputs": [],
   "source": [
    "url = 'https://nid.naver.com/nidlogin.login'\n",
    "driver = webdriver.Chrome('C:/pythonproject/1_crawling/chromedriver.exe') \n",
    "driver.get(url)\n",
    "time.sleep(5)\n",
    "\n",
    "ele_id = driver.find_element(By.ID,'id')\n",
    "ele_id.click()\n",
    "pyperclip.copy(id)\n",
    "ele_id.send._keys(Keys.CONTROL,'v')\n",
    "time.sleep(2)\n",
    "\n",
    "ele_pw = driver.find_element(By.ID,'pw')\n",
    "ele_pw.click()\n",
    "pyperclip.copy(pw)\n",
    "ele_pw.send._keys(Keys.CONTROL,'v')\n",
    "time.sleep(2)\n",
    "\n",
    "\n",
    "\n",
    "time.sleep(3)\n",
    "# driver.find_element(By.CLASS_NAME,'btn_login').click()\n",
    "driver.find_element(By.XPATH,'//*[@id=\"log.login\"]').click()"
   ]
  },
  {
   "cell_type": "code",
   "execution_count": null,
   "id": "9ed010b1-d1f3-4d44-91ab-1512d26c09bc",
   "metadata": {},
   "outputs": [],
   "source": []
  },
  {
   "cell_type": "code",
   "execution_count": null,
   "id": "afca47fc-b1c8-4a0d-8b3b-370718db13ba",
   "metadata": {},
   "outputs": [],
   "source": []
  },
  {
   "cell_type": "code",
   "execution_count": null,
   "id": "04baffb0-c03d-4ea5-af03-5632a583557a",
   "metadata": {},
   "outputs": [],
   "source": []
  }
 ],
 "metadata": {
  "kernelspec": {
   "display_name": "tutorial",
   "language": "python",
   "name": "env_django"
  },
  "language_info": {
   "codemirror_mode": {
    "name": "ipython",
    "version": 3
   },
   "file_extension": ".py",
   "mimetype": "text/x-python",
   "name": "python",
   "nbconvert_exporter": "python",
   "pygments_lexer": "ipython3",
   "version": "3.10.10"
  }
 },
 "nbformat": 4,
 "nbformat_minor": 5
}
